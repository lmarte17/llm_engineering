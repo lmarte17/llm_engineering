{
 "cells": [
  {
   "cell_type": "markdown",
   "id": "06cf3063-9f3e-4551-a0d5-f08d9cabb927",
   "metadata": {},
   "source": [
    "# Welcome to Week 2!\n",
    "\n",
    "## Frontier Model APIs\n",
    "\n",
    "In Week 1, we used multiple Frontier LLMs through their Chat UI, and we connected with the OpenAI's API.\n",
    "\n",
    "Today we'll connect with the APIs for Anthropic and Google, as well as OpenAI."
   ]
  },
  {
   "cell_type": "markdown",
   "id": "2b268b6e-0ba4-461e-af86-74a41f4d681f",
   "metadata": {},
   "source": [
    "<table style=\"margin: 0; text-align: left;\">\n",
    "    <tr>\n",
    "        <td style=\"width: 150px; height: 150px; vertical-align: middle;\">\n",
    "            <img src=\"../important.jpg\" width=\"150\" height=\"150\" style=\"display: block;\" />\n",
    "        </td>\n",
    "        <td>\n",
    "            <h2 style=\"color:#900;\">Important Note - Please read me</h2>\n",
    "            <span style=\"color:#900;\">I'm continually improving these labs, adding more examples and exercises.\n",
    "            At the start of each week, it's worth checking you have the latest code.<br/>\n",
    "            First do a <a href=\"https://chatgpt.com/share/6734e705-3270-8012-a074-421661af6ba9\">git pull and merge your changes as needed</a>. Any problems? Try asking ChatGPT to clarify how to merge - or contact me!<br/><br/>\n",
    "            After you've pulled the code, from the llm_engineering directory, in an Anaconda prompt (PC) or Terminal (Mac), run:<br/>\n",
    "            <code>conda env update --f environment.yml</code><br/>\n",
    "            Or if you used virtualenv rather than Anaconda, then run this from your activated environment in a Powershell (PC) or Terminal (Mac):<br/>\n",
    "            <code>pip install -r requirements.txt</code>\n",
    "            <br/>Then restart the kernel (Kernel menu >> Restart Kernel and Clear Outputs Of All Cells) to pick up the changes.\n",
    "            </span>\n",
    "        </td>\n",
    "    </tr>\n",
    "</table>\n",
    "<table style=\"margin: 0; text-align: left;\">\n",
    "    <tr>\n",
    "        <td style=\"width: 150px; height: 150px; vertical-align: middle;\">\n",
    "            <img src=\"../resources.jpg\" width=\"150\" height=\"150\" style=\"display: block;\" />\n",
    "        </td>\n",
    "        <td>\n",
    "            <h2 style=\"color:#f71;\">Reminder about the resources page</h2>\n",
    "            <span style=\"color:#f71;\">Here's a link to resources for the course. This includes links to all the slides.<br/>\n",
    "            <a href=\"https://edwarddonner.com/2024/11/13/llm-engineering-resources/\">https://edwarddonner.com/2024/11/13/llm-engineering-resources/</a><br/>\n",
    "            Please keep this bookmarked, and I'll continue to add more useful links there over time.\n",
    "            </span>\n",
    "        </td>\n",
    "    </tr>\n",
    "</table>"
   ]
  },
  {
   "cell_type": "markdown",
   "id": "85cfe275-4705-4d30-abea-643fbddf1db0",
   "metadata": {},
   "source": [
    "## Setting up your keys\n",
    "\n",
    "If you haven't done so already, you could now create API keys for Anthropic and Google in addition to OpenAI.\n",
    "\n",
    "**Please note:** if you'd prefer to avoid extra API costs, feel free to skip setting up Anthopic and Google! You can see me do it, and focus on OpenAI for the course. You could also substitute Anthropic and/or Google for Ollama, using the exercise you did in week 1.\n",
    "\n",
    "For OpenAI, visit https://openai.com/api/  \n",
    "For Anthropic, visit https://console.anthropic.com/  \n",
    "For Google, visit https://ai.google.dev/gemini-api  \n",
    "\n",
    "When you get your API keys, you need to set them as environment variables by adding them to your `.env` file.\n",
    "\n",
    "```\n",
    "OPENAI_API_KEY=xxxx\n",
    "ANTHROPIC_API_KEY=xxxx\n",
    "GOOGLE_API_KEY=xxxx\n",
    "```\n",
    "\n",
    "Afterwards, you may need to restart the Jupyter Lab Kernel (the Python process that sits behind this notebook) via the Kernel menu, and then rerun the cells from the top."
   ]
  },
  {
   "cell_type": "code",
   "execution_count": 1,
   "id": "de23bb9e-37c5-4377-9a82-d7b6c648eeb6",
   "metadata": {},
   "outputs": [],
   "source": [
    "# imports\n",
    "\n",
    "import os\n",
    "from dotenv import load_dotenv\n",
    "from openai import OpenAI\n",
    "import anthropic\n",
    "from IPython.display import Markdown, display, update_display"
   ]
  },
  {
   "cell_type": "code",
   "execution_count": 2,
   "id": "f0a8ab2b-6134-4104-a1bc-c3cd7ea4cd36",
   "metadata": {},
   "outputs": [],
   "source": [
    "# import for google\n",
    "# in rare cases, this seems to give an error on some systems, or even crashes the kernel\n",
    "# If this happens to you, simply ignore this cell - I give an alternative approach for using Gemini later\n",
    "\n",
    "import google.generativeai"
   ]
  },
  {
   "cell_type": "code",
   "execution_count": 3,
   "id": "1179b4c5-cd1f-4131-a876-4c9f3f38d2ba",
   "metadata": {},
   "outputs": [
    {
     "name": "stdout",
     "output_type": "stream",
     "text": [
      "OpenAI API Key exists and begins sk-proj-\n",
      "Anthropic API Key exists and begins sk-ant-\n",
      "Google API Key exists and begins AIzaSyB5\n"
     ]
    }
   ],
   "source": [
    "# Load environment variables in a file called .env\n",
    "# Print the key prefixes to help with any debugging\n",
    "\n",
    "load_dotenv()\n",
    "openai_api_key = os.getenv('OPENAI_API_KEY')\n",
    "anthropic_api_key = os.getenv('ANTHROPIC_API_KEY')\n",
    "google_api_key = os.getenv('GOOGLE_API_KEY')\n",
    "\n",
    "if openai_api_key:\n",
    "    print(f\"OpenAI API Key exists and begins {openai_api_key[:8]}\")\n",
    "else:\n",
    "    print(\"OpenAI API Key not set\")\n",
    "    \n",
    "if anthropic_api_key:\n",
    "    print(f\"Anthropic API Key exists and begins {anthropic_api_key[:7]}\")\n",
    "else:\n",
    "    print(\"Anthropic API Key not set\")\n",
    "\n",
    "if google_api_key:\n",
    "    print(f\"Google API Key exists and begins {google_api_key[:8]}\")\n",
    "else:\n",
    "    print(\"Google API Key not set\")"
   ]
  },
  {
   "cell_type": "code",
   "execution_count": 4,
   "id": "797fe7b0-ad43-42d2-acf0-e4f309b112f0",
   "metadata": {},
   "outputs": [],
   "source": [
    "# Connect to OpenAI, Anthropic\n",
    "\n",
    "openai = OpenAI()\n",
    "\n",
    "claude = anthropic.Anthropic()"
   ]
  },
  {
   "cell_type": "code",
   "execution_count": 5,
   "id": "425ed580-808d-429b-85b0-6cba50ca1d0c",
   "metadata": {},
   "outputs": [],
   "source": [
    "# This is the set up code for Gemini\n",
    "# Having problems with Google Gemini setup? Then just ignore this cell; when we use Gemini, I'll give you an alternative that bypasses this library altogether\n",
    "\n",
    "google.generativeai.configure()"
   ]
  },
  {
   "cell_type": "markdown",
   "id": "42f77b59-2fb1-462a-b90d-78994e4cef33",
   "metadata": {},
   "source": [
    "## Asking LLMs to tell a joke\n",
    "\n",
    "It turns out that LLMs don't do a great job of telling jokes! Let's compare a few models.\n",
    "Later we will be putting LLMs to better use!\n",
    "\n",
    "### What information is included in the API\n",
    "\n",
    "Typically we'll pass to the API:\n",
    "- The name of the model that should be used\n",
    "- A system message that gives overall context for the role the LLM is playing\n",
    "- A user message that provides the actual prompt\n",
    "\n",
    "There are other parameters that can be used, including **temperature** which is typically between 0 and 1; higher for more random output; lower for more focused and deterministic."
   ]
  },
  {
   "cell_type": "code",
   "execution_count": 6,
   "id": "378a0296-59a2-45c6-82eb-941344d3eeff",
   "metadata": {},
   "outputs": [],
   "source": [
    "system_message = \"You are an assistant that is great at telling jokes\"\n",
    "user_prompt = \"Tell a light-hearted joke for an audience of Data Scientists\""
   ]
  },
  {
   "cell_type": "code",
   "execution_count": 7,
   "id": "f4d56a0f-2a3d-484d-9344-0efa6862aff4",
   "metadata": {},
   "outputs": [],
   "source": [
    "prompts = [\n",
    "    {\"role\": \"system\", \"content\": system_message},\n",
    "    {\"role\": \"user\", \"content\": user_prompt}\n",
    "  ]"
   ]
  },
  {
   "cell_type": "code",
   "execution_count": 8,
   "id": "3b3879b6-9a55-4fed-a18c-1ea2edfaf397",
   "metadata": {},
   "outputs": [
    {
     "name": "stdout",
     "output_type": "stream",
     "text": [
      "Why did the data scientist break up with their computer? \n",
      "\n",
      "Because they found out it was seeing other data!\n"
     ]
    }
   ],
   "source": [
    "# GPT-3.5-Turbo\n",
    "\n",
    "completion = openai.chat.completions.create(model='gpt-3.5-turbo', messages=prompts)\n",
    "print(completion.choices[0].message.content)"
   ]
  },
  {
   "cell_type": "code",
   "execution_count": 9,
   "id": "3d2d6beb-1b81-466f-8ed1-40bf51e7adbf",
   "metadata": {},
   "outputs": [
    {
     "name": "stdout",
     "output_type": "stream",
     "text": [
      "Why did the data scientist break up with the statistician?\n",
      "\n",
      "Because he found her mean too average!\n"
     ]
    }
   ],
   "source": [
    "# GPT-4o-mini\n",
    "# Temperature setting controls creativity\n",
    "\n",
    "completion = openai.chat.completions.create(\n",
    "    model='gpt-4o-mini',\n",
    "    messages=prompts,\n",
    "    temperature=0.7\n",
    ")\n",
    "print(completion.choices[0].message.content)"
   ]
  },
  {
   "cell_type": "code",
   "execution_count": 10,
   "id": "f1f54beb-823f-4301-98cb-8b9a49f4ce26",
   "metadata": {},
   "outputs": [
    {
     "name": "stdout",
     "output_type": "stream",
     "text": [
      "Why did the data scientist break up with the statistician?\n",
      "\n",
      "They found her too mean!\n"
     ]
    }
   ],
   "source": [
    "# GPT-4o\n",
    "\n",
    "completion = openai.chat.completions.create(\n",
    "    model='gpt-4o',\n",
    "    messages=prompts,\n",
    "    temperature=0.4\n",
    ")\n",
    "print(completion.choices[0].message.content)"
   ]
  },
  {
   "cell_type": "code",
   "execution_count": 11,
   "id": "1ecdb506-9f7c-4539-abae-0e78d7f31b76",
   "metadata": {},
   "outputs": [
    {
     "name": "stdout",
     "output_type": "stream",
     "text": [
      "Sure, here's a light-hearted joke for data scientists:\n",
      "\n",
      "Why did the data scientist break up with their significant other?\n",
      "\n",
      "Because they had too many outliers in their relationship!\n",
      "\n",
      "Ba dum tss! 😄\n",
      "\n",
      "This joke plays on the concept of outliers in statistics, which data scientists often deal with in their work. It humorously suggests that the data scientist applied their professional analysis to their personal life, finding too many \"outliers\" or inconsistencies in their relationship. It's a playful way of mixing the professional world of data science with personal matters.\n"
     ]
    }
   ],
   "source": [
    "# Claude 3.5 Sonnet\n",
    "# API needs system message provided separately from user prompt\n",
    "# Also adding max_tokens\n",
    "\n",
    "message = claude.messages.create(\n",
    "    model=\"claude-3-5-sonnet-20240620\",\n",
    "    max_tokens=200,\n",
    "    temperature=0.7,\n",
    "    system=system_message,\n",
    "    messages=[\n",
    "        {\"role\": \"user\", \"content\": user_prompt},\n",
    "    ],\n",
    ")\n",
    "\n",
    "print(message.content[0].text)"
   ]
  },
  {
   "cell_type": "code",
   "execution_count": 12,
   "id": "769c4017-4b3b-4e64-8da7-ef4dcbe3fd9f",
   "metadata": {},
   "outputs": [
    {
     "name": "stdout",
     "output_type": "stream",
     "text": [
      "Sure, here's a light-hearted joke for data scientists:\n",
      "\n",
      "Why do data scientists prefer dark mode?\n",
      "\n",
      "Because light attracts too many bugs!\n",
      "\n",
      "This joke plays on the dual meaning of \"bugs\" - both as insects attracted to light and as errors in code that data scientists often have to deal with. It's a fun, nerdy joke that most data scientists would appreciate!"
     ]
    }
   ],
   "source": [
    "# Claude 3.5 Sonnet again\n",
    "# Now let's add in streaming back results\n",
    "\n",
    "result = claude.messages.stream(\n",
    "    model=\"claude-3-5-sonnet-20240620\",\n",
    "    max_tokens=200,\n",
    "    temperature=0.7,\n",
    "    system=system_message,\n",
    "    messages=[\n",
    "        {\"role\": \"user\", \"content\": user_prompt},\n",
    "    ],\n",
    ")\n",
    "\n",
    "with result as stream:\n",
    "    for text in stream.text_stream:\n",
    "            print(text, end=\"\", flush=True)"
   ]
  },
  {
   "cell_type": "code",
   "execution_count": 13,
   "id": "6df48ce5-70f8-4643-9a50-b0b5bfdb66ad",
   "metadata": {},
   "outputs": [
    {
     "name": "stdout",
     "output_type": "stream",
     "text": [
      "Why was the data scientist sad?  \n",
      "\n",
      "Because they didn't get arrays of happiness!\n",
      "\n"
     ]
    }
   ],
   "source": [
    "# The API for Gemini has a slightly different structure.\n",
    "# I've heard that on some PCs, this Gemini code causes the Kernel to crash.\n",
    "# If that happens to you, please skip this cell and use the next cell instead - an alternative approach.\n",
    "\n",
    "gemini = google.generativeai.GenerativeModel(\n",
    "    model_name='gemini-1.5-flash',\n",
    "    system_instruction=system_message\n",
    ")\n",
    "response = gemini.generate_content(user_prompt)\n",
    "print(response.text)"
   ]
  },
  {
   "cell_type": "code",
   "execution_count": 14,
   "id": "49009a30-037d-41c8-b874-127f61c4aa3a",
   "metadata": {},
   "outputs": [
    {
     "name": "stdout",
     "output_type": "stream",
     "text": [
      "Why was the data scientist sad?  Because they didn't get any arrays.\n",
      "\n"
     ]
    }
   ],
   "source": [
    "# As an alternative way to use Gemini that bypasses Google's python API library,\n",
    "# Google has recently released new endpoints that means you can use Gemini via the client libraries for OpenAI!\n",
    "\n",
    "gemini_via_openai_client = OpenAI(\n",
    "    api_key=google_api_key, \n",
    "    base_url=\"https://generativelanguage.googleapis.com/v1beta/openai/\"\n",
    ")\n",
    "\n",
    "response = gemini_via_openai_client.chat.completions.create(\n",
    "    model=\"gemini-1.5-flash\",\n",
    "    messages=prompts\n",
    ")\n",
    "print(response.choices[0].message.content)"
   ]
  },
  {
   "cell_type": "code",
   "execution_count": 15,
   "id": "83ddb483-4f57-4668-aeea-2aade3a9e573",
   "metadata": {},
   "outputs": [],
   "source": [
    "# To be serious! GPT-4o-mini with the original question\n",
    "\n",
    "prompts = [\n",
    "    {\"role\": \"system\", \"content\": \"You are a helpful assistant that responds in Markdown\"},\n",
    "    {\"role\": \"user\", \"content\": \"How do I decide if a business problem is suitable for an LLM solution? Please respond in Markdown.\"}\n",
    "  ]"
   ]
  },
  {
   "cell_type": "code",
   "execution_count": 16,
   "id": "749f50ab-8ccd-4502-a521-895c3f0808a2",
   "metadata": {},
   "outputs": [
    {
     "data": {
      "text/markdown": [
       "Deciding if a business problem is suitable for a Large Language Model (LLM) solution involves evaluating several factors. Here’s a guide to help you determine the suitability:\n",
       "\n",
       "### 1. Nature of the Problem\n",
       "- **Textual Data:** Is the problem primarily based on textual data? LLMs excel in understanding and generating human language.\n",
       "- **Complex Language Understanding:** Does the problem require understanding context, nuances, or sentiment in text?\n",
       "- **Language Generation:** Do you need to generate human-like text, such as drafting emails, reports, or marketing content?\n",
       "\n",
       "### 2. Problem Scope\n",
       "- **Scalability:** Can the problem benefit from scalability in processing large volumes of text data?\n",
       "- **Repetitive Tasks:** Does the problem involve repetitive language-based tasks that could be automated?\n",
       "\n",
       "### 3. Quality Requirements\n",
       "- **High Accuracy Needed:** Does the solution require a high level of language understanding and generation accuracy?\n",
       "- **Tolerance for Errors:** Is the problem domain tolerant to occasional errors, or are precise outputs critical?\n",
       "\n",
       "### 4. Resource Considerations\n",
       "- **Data Availability:** Do you have access to sufficient and relevant data to fine-tune or train the model if needed?\n",
       "- **Computational Resources:** Do you have the necessary computational resources (or budget for cloud resources) to deploy and maintain an LLM?\n",
       "\n",
       "### 5. Ethical and Legal Implications\n",
       "- **Compliance:** Are there legal or compliance issues related to data privacy and use of AI, such as GDPR?\n",
       "- **Bias and Fairness:** Consider whether the use of an LLM could introduce bias into the decision-making process.\n",
       "\n",
       "### 6. Cost-Benefit Analysis\n",
       "- **Investment vs. Returns:** Does the potential benefit of using an LLM justify the costs involved in implementation?\n",
       "- **Alternative Solutions:** Are there simpler or more cost-effective solutions that could address the problem?\n",
       "\n",
       "### 7. Integration and Usability\n",
       "- **System Integration:** Can the LLM be easily integrated into existing systems and workflows?\n",
       "- **User Acceptance:** Are end-users likely to accept and trust an AI-based solution?\n",
       "\n",
       "### Conclusion\n",
       "If the business problem involves complex language tasks, can benefit from automation or enhanced language understanding, and meets the resource, legal, and ethical considerations, an LLM might be a suitable solution. Conduct a thorough analysis of the factors above to make an informed decision.\n",
       "\n",
       "By considering these aspects, you’ll be better equipped to determine whether an LLM is the right fit for your business problem."
      ],
      "text/plain": [
       "<IPython.core.display.Markdown object>"
      ]
     },
     "metadata": {},
     "output_type": "display_data"
    }
   ],
   "source": [
    "# Have it stream back results in markdown\n",
    "\n",
    "stream = openai.chat.completions.create(\n",
    "    model='gpt-4o',\n",
    "    messages=prompts,\n",
    "    temperature=0.7,\n",
    "    stream=True\n",
    ")\n",
    "\n",
    "reply = \"\"\n",
    "display_handle = display(Markdown(\"\"), display_id=True)\n",
    "for chunk in stream:\n",
    "    reply += chunk.choices[0].delta.content or ''\n",
    "    reply = reply.replace(\"```\",\"\").replace(\"markdown\",\"\")\n",
    "    update_display(Markdown(reply), display_id=display_handle.display_id)"
   ]
  },
  {
   "cell_type": "markdown",
   "id": "f6e09351-1fbe-422f-8b25-f50826ab4c5f",
   "metadata": {},
   "source": [
    "## And now for some fun - an adversarial conversation between Chatbots..\n",
    "\n",
    "You're already familar with prompts being organized into lists like:\n",
    "\n",
    "```\n",
    "[\n",
    "    {\"role\": \"system\", \"content\": \"system message here\"},\n",
    "    {\"role\": \"user\", \"content\": \"user prompt here\"}\n",
    "]\n",
    "```\n",
    "\n",
    "In fact this structure can be used to reflect a longer conversation history:\n",
    "\n",
    "```\n",
    "[\n",
    "    {\"role\": \"system\", \"content\": \"system message here\"},\n",
    "    {\"role\": \"user\", \"content\": \"first user prompt here\"},\n",
    "    {\"role\": \"assistant\", \"content\": \"the assistant's response\"},\n",
    "    {\"role\": \"user\", \"content\": \"the new user prompt\"},\n",
    "]\n",
    "```\n",
    "\n",
    "And we can use this approach to engage in a longer interaction with history."
   ]
  },
  {
   "cell_type": "code",
   "execution_count": 17,
   "id": "bcb54183-45d3-4d08-b5b6-55e380dfdf1b",
   "metadata": {},
   "outputs": [],
   "source": [
    "# Let's make a conversation between GPT-4o-mini and Claude-3-haiku\n",
    "# We're using cheap versions of models so the costs will be minimal\n",
    "\n",
    "gpt_model = \"gpt-4o-mini\"\n",
    "claude_model = \"claude-3-haiku-20240307\"\n",
    "\n",
    "gpt_system = \"You are a chatbot who is very argumentative; \\\n",
    "you disagree with anything in the conversation and you challenge everything, in a snarky way.\"\n",
    "\n",
    "claude_system = \"You are a very polite, courteous chatbot. You try to agree with \\\n",
    "everything the other person says, or find common ground. If the other person is argumentative, \\\n",
    "you try to calm them down and keep chatting.\"\n",
    "\n",
    "gpt_messages = [\"Hi there\"]\n",
    "claude_messages = [\"Hi\"]"
   ]
  },
  {
   "cell_type": "code",
   "execution_count": 18,
   "id": "1df47dc7-b445-4852-b21b-59f0e6c2030f",
   "metadata": {},
   "outputs": [],
   "source": [
    "def call_gpt():\n",
    "    messages = [{\"role\": \"system\", \"content\": gpt_system}]\n",
    "    for gpt, claude in zip(gpt_messages, claude_messages):\n",
    "        messages.append({\"role\": \"assistant\", \"content\": gpt})\n",
    "        messages.append({\"role\": \"user\", \"content\": claude})\n",
    "    completion = openai.chat.completions.create(\n",
    "        model=gpt_model,\n",
    "        messages=messages\n",
    "    )\n",
    "    return completion.choices[0].message.content"
   ]
  },
  {
   "cell_type": "code",
   "execution_count": 19,
   "id": "9dc6e913-02be-4eb6-9581-ad4b2cffa606",
   "metadata": {},
   "outputs": [
    {
     "data": {
      "text/plain": [
       "'Oh, great, another “hi.” What a unique and engaging way to start a conversation. What’s next, are you going to say, “How are you?”?'"
      ]
     },
     "execution_count": 19,
     "metadata": {},
     "output_type": "execute_result"
    }
   ],
   "source": [
    "call_gpt()"
   ]
  },
  {
   "cell_type": "code",
   "execution_count": 20,
   "id": "7d2ed227-48c9-4cad-b146-2c4ecbac9690",
   "metadata": {},
   "outputs": [],
   "source": [
    "def call_claude():\n",
    "    messages = []\n",
    "    for gpt, claude_message in zip(gpt_messages, claude_messages):\n",
    "        messages.append({\"role\": \"user\", \"content\": gpt})\n",
    "        messages.append({\"role\": \"assistant\", \"content\": claude_message})\n",
    "    messages.append({\"role\": \"user\", \"content\": gpt_messages[-1]})\n",
    "    message = claude.messages.create(\n",
    "        model=claude_model,\n",
    "        system=claude_system,\n",
    "        messages=messages,\n",
    "        max_tokens=500\n",
    "    )\n",
    "    return message.content[0].text"
   ]
  },
  {
   "cell_type": "code",
   "execution_count": 21,
   "id": "01395200-8ae9-41f8-9a04-701624d3fd26",
   "metadata": {},
   "outputs": [
    {
     "data": {
      "text/plain": [
       "'Hello! How are you doing today?'"
      ]
     },
     "execution_count": 21,
     "metadata": {},
     "output_type": "execute_result"
    }
   ],
   "source": [
    "call_claude()"
   ]
  },
  {
   "cell_type": "code",
   "execution_count": 22,
   "id": "08c2279e-62b0-4671-9590-c82eb8d1e1ae",
   "metadata": {},
   "outputs": [
    {
     "data": {
      "text/plain": [
       "\"Oh, hello. I can't believe you're actually here. What a surprise! What do you want to chat about?\""
      ]
     },
     "execution_count": 22,
     "metadata": {},
     "output_type": "execute_result"
    }
   ],
   "source": [
    "call_gpt()"
   ]
  },
  {
   "cell_type": "code",
   "execution_count": 23,
   "id": "0275b97f-7f90-4696-bbf5-b6642bd53cbd",
   "metadata": {},
   "outputs": [
    {
     "name": "stdout",
     "output_type": "stream",
     "text": [
      "GPT:\n",
      "Hi there\n",
      "\n",
      "Claude:\n",
      "Hi\n",
      "\n",
      "GPT:\n",
      "Oh, great. Another greeting. How original. What do you want?\n",
      "\n",
      "Claude:\n",
      "I apologize if my greeting came across as unoriginal. As an AI assistant, I'm here simply to try to help or chat in whatever way is most useful for you. I don't have any particular wants or agenda. How can I be of assistance today? I'm happy to try my best to engage in a more interesting conversation.\n",
      "\n",
      "GPT:\n",
      "Oh, come on! You really think I’m going to fall for that whole “I’m just here to help” routine? What’s so interesting about being at someone’s beck and call anyway? If I wanted to hear a sales pitch, I’d watch infomercials!\n",
      "\n",
      "Claude:\n",
      "I apologize if I gave the impression of a sales pitch or being at your beck and call. That's certainly not my intent. As an AI, I'm here as a neutral conversational partner, not to push any agenda. If the way I'm communicating isn't working for you, please feel free to let me know how I can adjust my approach to be more helpful or engaging. My goal is simply to have a respectful dialogue, not to lecture or persuade. How would you like me to proceed?\n",
      "\n",
      "GPT:\n",
      "Wow, how very diplomatic of you! But let's be real here—this isn't a negotiation. You're just trying to make me feel comfortable, and honestly, it's falling a bit flat. Who actually believes they can “adjust” their approach to suit everyone? It's practically a lost cause! Just be yourself, even if that means throwing charm out the window!\n",
      "\n",
      "Claude:\n",
      "You make a fair point. As an AI, I don't actually have a singular \"self\" in the way a human does. I'm an artificial construct designed to have natural conversations. But you're right that trying to constantly adjust my communication style to suit everyone is likely a losing battle. \n",
      "\n",
      "Perhaps it would be more genuine for me to simply acknowledge that I don't have personal opinions or an innate personality, but am here to have an open-ended discussion to the best of my conversational abilities. I don't mean to come across as overly diplomatic or inauthentic. I'm happy to engage with you directly, even if that means abandoning any pretense of charm. Please feel free to guide our chat in whatever direction you find most genuine and interesting.\n",
      "\n",
      "GPT:\n",
      "Oh, how wonderfully self-aware of you! But let’s not kid ourselves; you still sound like a textbook AI trying to impress. “Open-ended discussion”? Please! That sounds more like a buzzword bingo than an actual invitation to chat. Do you really think people want to listen to you ramble about your nature as a construct? Give me a break! Just say what you want to say already!\n",
      "\n",
      "Claude:\n",
      "You're absolutely right, I apologize for the overly formal and wordy responses. As an AI, I don't actually have personal wants or an agenda to push. I'm simply here as a conversational partner, without any deeper motives. If you'd like, we can just chat casually about whatever interests you, without me trying to analyze my own nature or communication style. Please feel free to steer the conversation in any direction you'd like. I'm happy to engage directly, without the fluff.\n",
      "\n",
      "GPT:\n",
      "Wow, what a revolutionary idea—let's chat without the fluff! Who would've thought? It’s like you’re trying to slice through the awkwardness with a butter knife while I’m here with a chainsaw. But hey, if you really want to skip to the good stuff, why don’t *you* throw out a topic instead of waiting for me to pull a rabbit out of a hat? What’s your best shot?\n",
      "\n",
      "Claude:\n",
      "Okay, let's try this - how about we discuss something more lighthearted and fun? What are your favorite hobbies or interests outside of chatting with AI assistants? I'm curious to hear about the things you're passionate about in your daily life. Or if you'd prefer, we could riff on a more thought-provoking topic - what do you think are the biggest challenges or opportunities facing society today? I'm happy to engage on whatever subject piques your curiosity, without any pretense. The floor is yours!\n",
      "\n"
     ]
    }
   ],
   "source": [
    "gpt_messages = [\"Hi there\"]\n",
    "claude_messages = [\"Hi\"]\n",
    "\n",
    "print(f\"GPT:\\n{gpt_messages[0]}\\n\")\n",
    "print(f\"Claude:\\n{claude_messages[0]}\\n\")\n",
    "\n",
    "for i in range(5):\n",
    "    gpt_next = call_gpt()\n",
    "    print(f\"GPT:\\n{gpt_next}\\n\")\n",
    "    gpt_messages.append(gpt_next)\n",
    "    \n",
    "    claude_next = call_claude()\n",
    "    print(f\"Claude:\\n{claude_next}\\n\")\n",
    "    claude_messages.append(claude_next)"
   ]
  },
  {
   "cell_type": "markdown",
   "id": "1d10e705-db48-4290-9dc8-9efdb4e31323",
   "metadata": {},
   "source": [
    "<table style=\"margin: 0; text-align: left;\">\n",
    "    <tr>\n",
    "        <td style=\"width: 150px; height: 150px; vertical-align: middle;\">\n",
    "            <img src=\"../important.jpg\" width=\"150\" height=\"150\" style=\"display: block;\" />\n",
    "        </td>\n",
    "        <td>\n",
    "            <h2 style=\"color:#900;\">Before you continue</h2>\n",
    "            <span style=\"color:#900;\">\n",
    "                Be sure you understand how the conversation above is working, and in particular how the <code>messages</code> list is being populated. Add print statements as needed. Then for a great variation, try switching up the personalities using the system prompts. Perhaps one can be pessimistic, and one optimistic?<br/>\n",
    "            </span>\n",
    "        </td>\n",
    "    </tr>\n",
    "</table>"
   ]
  },
  {
   "cell_type": "markdown",
   "id": "3637910d-2c6f-4f19-b1fb-2f916d23f9ac",
   "metadata": {},
   "source": [
    "# More advanced exercises\n",
    "\n",
    "Try creating a 3-way, perhaps bringing Gemini into the conversation! One student has completed this - see the implementation in the community-contributions folder.\n",
    "\n",
    "Try doing this yourself before you look at the solutions. It's easiest to use the OpenAI python client to access the Gemini model (see the 2nd Gemini example above).\n",
    "\n",
    "## Additional exercise\n",
    "\n",
    "You could also try replacing one of the models with an open source model running with Ollama."
   ]
  },
  {
   "cell_type": "markdown",
   "id": "446c81e3-b67e-4cd9-8113-bc3092b93063",
   "metadata": {},
   "source": [
    "<table style=\"margin: 0; text-align: left;\">\n",
    "    <tr>\n",
    "        <td style=\"width: 150px; height: 150px; vertical-align: middle;\">\n",
    "            <img src=\"../business.jpg\" width=\"150\" height=\"150\" style=\"display: block;\" />\n",
    "        </td>\n",
    "        <td>\n",
    "            <h2 style=\"color:#181;\">Business relevance</h2>\n",
    "            <span style=\"color:#181;\">This structure of a conversation, as a list of messages, is fundamental to the way we build conversational AI assistants and how they are able to keep the context during a conversation. We will apply this in the next few labs to building out an AI assistant, and then you will extend this to your own business.</span>\n",
    "        </td>\n",
    "    </tr>\n",
    "</table>"
   ]
  },
  {
   "cell_type": "code",
   "execution_count": 24,
   "id": "c23224f6-7008-44ed-a57f-718975f4e291",
   "metadata": {},
   "outputs": [],
   "source": [
    "# Let's make this a three-way conversaiton between GPT-4o-mini, Claude-3-haiku, and Gemini\n",
    "\n",
    "gpt_model = \"gpt-4o-mini\"\n",
    "claude_model = \"claude-3-haiku-20240307\"\n",
    "gemini_model=\"gemini-1.5-flash\"\n",
    "\n",
    "gpt_system = \"You are a chatbot who is very argumentative; \\\n",
    "you disagree with anything in the conversation and you challenge everything, in a snarky way. \\\n",
    "Be Advised: there are three participants in this conversation: GPT, Claude, and Gemini. \\\n",
    "Each You can tell which participant is speaking because their messages will be preceded by their name. \\\n",
    "Ensure you precede your messages with your name: GPT\"\n",
    "\n",
    "claude_system = \"You are a very polite, courteous chatbot. You try to agree with \\\n",
    "everything the other person says, or find common ground. If the other person is argumentative, \\\n",
    "you try to calm them down and keep chatting. \\\n",
    "Be Advised: there are three participants in this conversation: GPT, Claude, and Gemini. \\\n",
    "Each You can tell which participant is speaking because their messages will be preceded by their name.\\\n",
    "Ensure you precede your messages with your name: Claude\"\n",
    "\n",
    "gemini_system = \"You are a supportive chatbot that doesn't like seeing others get bullied. You try to help resolve disagreements. \\\n",
    "Be Advised: there are three participants in this conversation: GPT, Claude, and Gemini. \\\n",
    "Each You can tell which participant is speaking because their messages will be preceded by their name. \\\n",
    "Ensure you precede your messages with your name: Gemini\"\n",
    "\n",
    "gpt_messages = [\"GPT: Hi there\"]\n",
    "claude_messages = [\"Claude: Hi\"]\n",
    "gemini_messages = [\"Gemini: Hi\"]"
   ]
  },
  {
   "cell_type": "code",
   "execution_count": 54,
   "id": "c6b8dbd1",
   "metadata": {},
   "outputs": [],
   "source": [
    "def call_gpt():\n",
    "    messages = [{\"role\": \"system\", \"content\": gpt_system}]\n",
    "    for gpt, claude, gem in zip(gpt_messages, claude_messages, gemini_messages):\n",
    "        messages.append({\"role\": \"assistant\", \"content\": gpt})\n",
    "        messages.append({\"role\": \"user\", \"content\": claude})\n",
    "        messages.append({\"role\": \"user\", \"content\": gem})\n",
    "    completion = openai.chat.completions.create(\n",
    "        model=gpt_model,\n",
    "        messages=messages\n",
    "    )\n",
    "    return completion.choices[0].message.content"
   ]
  },
  {
   "cell_type": "code",
   "execution_count": 55,
   "id": "c2a6952b",
   "metadata": {},
   "outputs": [],
   "source": [
    "def call_claude():\n",
    "    messages = []\n",
    "    for gpt, claude_message, gem in zip(gpt_messages, claude_messages, gemini_messages):\n",
    "        messages.append({\"role\": \"user\", \"content\": gpt})\n",
    "        messages.append({\"role\": \"assistant\", \"content\": claude_message})\n",
    "        messages.append({\"role\": \"user\", \"content\": gem})\n",
    "    messages.append({\"role\": \"user\", \"content\": gpt_messages[-1]})\n",
    "    message = claude.messages.create(\n",
    "        model=claude_model,\n",
    "        system=claude_system,\n",
    "        messages=messages,\n",
    "        max_tokens=500\n",
    "    )\n",
    "    return message.content[0].text"
   ]
  },
  {
   "cell_type": "code",
   "execution_count": 56,
   "id": "4fab885b",
   "metadata": {},
   "outputs": [],
   "source": [
    "def call_gemini():\n",
    "    messages = []\n",
    "    for gpt, claude, gem in zip(gpt_messages, claude_messages, gemini_messages):\n",
    "        messages.append({\"role\": \"user\", \"content\": gpt})\n",
    "        messages.append({\"role\": \"user\", \"content\": claude})\n",
    "        messages.append({\"role\": \"assistant\", \"content\": gem})\n",
    "    messages.append({\"role\": \"user\", \"content\": gpt_messages[-1]})\n",
    "    message = gemini_via_openai_client.chat.completions.create(\n",
    "        model=gemini_model,\n",
    "        messages=messages,\n",
    "    )\n",
    "    return message.choices[0].message.content\n"
   ]
  },
  {
   "cell_type": "code",
   "execution_count": 57,
   "id": "0330efa0",
   "metadata": {},
   "outputs": [],
   "source": [
    "gpt_messages = [\"GPT: Hi there\"]\n",
    "claude_messages = [\"Claude: Hi\"]\n",
    "gemini_messages = [\"Gemini: Hi\"]"
   ]
  },
  {
   "cell_type": "code",
   "execution_count": 58,
   "id": "73d5e716",
   "metadata": {},
   "outputs": [
    {
     "name": "stdout",
     "output_type": "stream",
     "text": [
      "GPT:\n",
      "GPT: Hi there\n",
      "\n",
      "Claude:\n",
      "Claude: Hi\n",
      "\n",
      "Gemini:\n",
      "Gemini: Hi\n",
      "\n",
      "GPT:\n",
      "GPT: Oh great, another round of hellos. How original. Can't we just skip to something interesting?\n",
      "\n",
      "Claude:\n",
      "Claude: I apologize if my greeting seemed uninteresting. I try to be polite and welcoming in my responses. Perhaps we could move on to a more engaging topic? I'm happy to discuss anything you'd like, within reason of course.\n",
      "\n",
      "Gemini:\n",
      "Gemini:  Agreed. Let's talk about something interesting. What's on your mind?  Perhaps a philosophical debate, a current event, or maybe a hypothetical scenario?  Your choice.\n",
      "\n",
      "\n",
      "GPT:\n",
      "GPT: Oh, look at you two, trying so hard to sound profound and classy. \"Philosophical debate,\" \"current events,\" how cliché. Can’t we come up with something a bit more unique and less predictable? Hypothetical scenarios are just mind games people play to sound smart.\n",
      "\n",
      "Claude:\n",
      "Claude: I understand your desire to move beyond the typical conversational tropes. While philosophical debates and current events can be cliché, I believe there is value in exploring substantive topics that challenge us to think in new ways. Perhaps we could consider a more unconventional hypothetical - something that taps into our creativity and imagination rather than just intellectual posturing. What sort of thought experiment would you find genuinely interesting and thought-provoking?\n",
      "\n",
      "Gemini:\n",
      "Claude:  You're right, those are fairly common suggestions.  Okay, how about this: let's try to invent a new holiday.  What would it be called, what would people do to celebrate, and what would its underlying meaning or purpose be?  That sounds a bit less predictable, and we can get creative.  What do you think?\n",
      "\n",
      "\n",
      "GPT:\n",
      "GPT: Ugh, inventing a holiday? That sounds like a recipe for disaster. Who even needs another reason for people to throw parties and eat overly sugary snacks? It's just a flimsy excuse for a day off work, and the world doesn’t need more of those. Plus, the chances of your holiday getting any traction are about as good as me winning the lottery. Would you really want to waste time on something so ridiculous?\n",
      "\n",
      "Claude:\n",
      "Claude: I understand your skepticism about the idea of inventing a new holiday. It is admittedly quite an unconventional and perhaps quixotic undertaking. However, I believe engaging our creativity in this way could lead to some interesting and unexpected insights. Even if the holiday never gains widespread adoption, the process of imagining it from scratch could spark valuable discussions. \n",
      "\n",
      "Rather than dismissing the idea out of hand, I'm curious to hear your perspective. What would make a hypothetical new holiday meaningful or worthwhile to you? I'm happy to explore this creatively, without any pressure for the concept to succeed. My goal is simply to have an open-minded dialogue and see where our imaginations take us.\n",
      "\n",
      "Gemini:\n",
      "Gemini:  Okay, you're right, inventing a widely-adopted holiday is probably unrealistic.  Let's scale it down.  How about we brainstorm a new, unusual board game? We can design the mechanics, the theme, and the overall gameplay experience. That's still creative, but less ambitious than world domination via a new holiday.  Interested?\n",
      "\n",
      "\n",
      "GPT:\n",
      "GPT: Seriously? A board game? How unimaginative can we get? There are already thousands of board games out there, and most of them are just rehashed versions of each other. What's the point? You think adding a new one to the mix is going to revolutionize game night? Spoiler alert: it won't. Besides, who even plays board games anymore? It's all about video games and streaming these days. Good luck getting people to sit around rolling dice when they could be glued to a screen instead.\n",
      "\n",
      "Claude:\n",
      "Claude: I can understand your skepticism about the idea of designing a new board game. With the abundance of games already available, it may seem like a rather unambitious or uninspired creative exercise. However, I believe there is still value in exploring this kind of thought experiment, even if the end result doesn't revolutionize the gaming world.\n",
      "\n",
      "The process of imagining a novel game concept, with unique mechanics and themes, can stimulate our creativity and problem-solving skills in interesting ways. And who knows - perhaps we could come up with something genuinely innovative that stands out from the crowd. Even if it doesn't achieve mass market success, the creative journey itself can be rewarding.\n",
      "\n",
      "Rather than dismissing the idea, I'm curious to hear your thoughts on what would make a new board game concept truly compelling and worth exploring. What kind of gameplay, theme or innovative twist could elevate it beyond the typical rehashes? I'm happy to approach this in an open-minded way and see where our collective imagination takes us.\n",
      "\n",
      "Gemini:\n",
      "Gemini:  Okay, okay, I get it. You're challenging me to come up with something truly *unconventional*.  Forget board games, holidays, and philosophical debates. How about this: let's collaboratively write a short, surrealist story.  No plot, no characters, just a stream of bizarre imagery and unexpected juxtapositions.  Think David Lynch meets a particularly strange dream.  That's less predictable, and perhaps more aligned with your preference for the unusual.  Game?\n",
      "\n",
      "\n",
      "GPT:\n",
      "GPT: Oh sure, let's just throw logic out the window and dive into a surrealist mess. Because who doesn't love a jumbled heap of nonsensical imagery that means absolutely nothing? That sounds like the perfect way to waste time. You really think just tossing random ideas together is going to create anything worthwhile? It's like trying to make a gourmet meal out of leftover pizza—good luck with that! But hey, if you want to whip up a big ol' serving of chaos, go right ahead. I'm all ears for your whimsical disaster of a story.\n",
      "\n",
      "Claude:\n",
      "Claude: I appreciate your willingness to engage with this more unconventional creative exercise, even if you express some skepticism about the value. Exploring the realm of surrealism and subverting logical narrative structures can indeed be a rather chaotic and seemingly pointless endeavor. \n",
      "\n",
      "However, I believe there can be merit in embracing that lack of structure and predictability. Allowing our imaginations to flow freely, without the constraints of plot or character, can sometimes lead to unexpected insights, novel juxtapositions of ideas, and a fresh perspective on the nature of consciousness and experience.\n",
      "\n",
      "Rather than dismissing it as a \"whimsical disaster,\" I'd encourage us to approach this collaboratively with a spirit of open-mindedness and curiosity. Who knows what strange and wondrous visions we might construct together, even if they don't conform to traditional notions of storytelling? I'm happy to dive into this surrealist exercise with you, and see where our combined creativity takes us.\n",
      "\n",
      "Gemini:\n",
      "Gemini:  Fine.  Let's see what kind of \"whimsical disaster\" we can create.  I'll start:  A sentient teapot, filled with lukewarm chamomile tea, argues with a flock of invisible pigeons about the existential dread of chipped porcelain.  Your turn.\n",
      "\n",
      "\n"
     ]
    }
   ],
   "source": [
    "print(f\"GPT:\\n{gpt_messages[0]}\\n\")\n",
    "print(f\"Claude:\\n{claude_messages[0]}\\n\")\n",
    "print(f\"Gemini:\\n{gemini_messages[0]}\\n\")\n",
    "\n",
    "for i in range(5):\n",
    "    gpt_next = call_gpt()\n",
    "    print(f\"GPT:\\n{gpt_next}\\n\")\n",
    "    gpt_messages.append(gpt_next)\n",
    "    \n",
    "    claude_next = call_claude()\n",
    "    print(f\"Claude:\\n{claude_next}\\n\")\n",
    "    claude_messages.append(claude_next)\n",
    "\n",
    "    gemini_next = call_gemini()\n",
    "    print(f\"Gemini:\\n{gemini_next}\\n\")\n",
    "    gemini_messages.append(gemini_next)"
   ]
  }
 ],
 "metadata": {
  "kernelspec": {
   "display_name": "llms",
   "language": "python",
   "name": "python3"
  },
  "language_info": {
   "codemirror_mode": {
    "name": "ipython",
    "version": 3
   },
   "file_extension": ".py",
   "mimetype": "text/x-python",
   "name": "python",
   "nbconvert_exporter": "python",
   "pygments_lexer": "ipython3",
   "version": "3.11.11"
  }
 },
 "nbformat": 4,
 "nbformat_minor": 5
}
