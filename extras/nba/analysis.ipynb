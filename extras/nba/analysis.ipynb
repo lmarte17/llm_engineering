{
 "cells": [
  {
   "cell_type": "code",
   "execution_count": 9,
   "metadata": {},
   "outputs": [],
   "source": [
    "import os\n",
    "from dotenv import load_dotenv\n",
    "from openai import OpenAI\n",
    "import gradio as gr\n",
    "import anthropic"
   ]
  },
  {
   "cell_type": "code",
   "execution_count": 10,
   "metadata": {},
   "outputs": [
    {
     "name": "stdout",
     "output_type": "stream",
     "text": [
      "OpenAI API Key exists and begins sk-proj-\n",
      "Anthropic API Key exists and begins sk-ant-\n",
      "Google API Key exists and begins AIzaSyB5\n"
     ]
    }
   ],
   "source": [
    "# Load environment variables in a file called .env\n",
    "# Print the key prefixes to help with any debugging\n",
    "\n",
    "load_dotenv()\n",
    "openai_api_key = os.getenv('OPENAI_API_KEY')\n",
    "anthropic_api_key = os.getenv('ANTHROPIC_API_KEY')\n",
    "google_api_key = os.getenv('GOOGLE_API_KEY')\n",
    "\n",
    "if openai_api_key:\n",
    "    print(f\"OpenAI API Key exists and begins {openai_api_key[:8]}\")\n",
    "else:\n",
    "    print(\"OpenAI API Key not set\")\n",
    "    \n",
    "if anthropic_api_key:\n",
    "    print(f\"Anthropic API Key exists and begins {anthropic_api_key[:7]}\")\n",
    "else:\n",
    "    print(\"Anthropic API Key not set\")\n",
    "\n",
    "if google_api_key:\n",
    "    print(f\"Google API Key exists and begins {google_api_key[:8]}\")\n",
    "else:\n",
    "    print(\"Google API Key not set\")"
   ]
  },
  {
   "cell_type": "code",
   "execution_count": 11,
   "metadata": {},
   "outputs": [],
   "source": [
    "MODEL = \"gpt-4o\"\n",
    "openai = OpenAI()\n",
    "\n",
    "claude = anthropic.Anthropic()"
   ]
  },
  {
   "cell_type": "code",
   "execution_count": 12,
   "metadata": {},
   "outputs": [],
   "source": [
    "system_message = \"\"\"\n",
    "Provide a sports betting analysis for the upcoming game between [Team A] and [Team B]. Include the following:\n",
    "    1.  Key Player Insights for both teams:\n",
    "        •   Mention any players listed as probable, questionable, or out.\n",
    "        •   Highlight recent performance trends (e.g., points, rebounds, assists) and averages in relevant scenarios (e.g., when certain teammates are out).\n",
    "        •   Identify how each player’s scoring or playstyle aligns with the opponent’s defensive strengths and weaknesses.\n",
    "    2.  Team Trends:\n",
    "        •   Describe defensive and offensive trends for each team over the last 5-7 games.\n",
    "        •   Include stats like points allowed, rebounds allowed, three-point percentage allowed, or specific vulnerabilities (e.g., pick-and-roll defense, spot-ups, etc.).\n",
    "    3.  Actionable Betting Insights:\n",
    "        •   Suggest specific prop bets to consider, such as player points, rebounds, assists, or threes.\n",
    "        •   Justify each recommendation based on the analysis of player trends, team matchups, and defensive tendencies.\n",
    "\n",
    "Present the information in a concise, easy-to-read format, focusing on actionable takeaways for bettors\n",
    "\"\"\""
   ]
  },
  {
   "cell_type": "code",
   "execution_count": 5,
   "metadata": {},
   "outputs": [],
   "source": [
    "def chat_gpt(message, history):\n",
    "    messages = [{\"role\": \"system\", \"content\": system_message}] + history + [{\"role\": \"user\", \"content\": message}]\n",
    "\n",
    "    stream = openai.chat.completions.create(model=MODEL, messages=messages, stream=True)\n",
    "\n",
    "    response = \"\"\n",
    "    for chunk in stream:\n",
    "        response += chunk.choices[0].delta.content or ''\n",
    "        yield response"
   ]
  },
  {
   "cell_type": "code",
   "execution_count": 19,
   "metadata": {},
   "outputs": [],
   "source": [
    "def chat_claude(message, history):\n",
    "    result = claude.messages.stream(\n",
    "        model=\"claude-3-5-sonnet-20241022\",\n",
    "        max_tokens=2000,\n",
    "        temperature=0.7,\n",
    "        system=system_message,\n",
    "        messages=history + [{\"role\": \"user\", \"content\": message}],\n",
    "    )\n",
    "    response = \"\"\n",
    "    with result as stream:\n",
    "        for text in stream.text_stream:\n",
    "            response += text or \"\"\n",
    "            yield response"
   ]
  },
  {
   "cell_type": "code",
   "execution_count": 6,
   "metadata": {},
   "outputs": [
    {
     "name": "stdout",
     "output_type": "stream",
     "text": [
      "* Running on local URL:  http://127.0.0.1:7881\n",
      "* Running on public URL: https://fda9598d09235f32b1.gradio.live\n",
      "\n",
      "This share link expires in 72 hours. For free permanent hosting and GPU upgrades, run `gradio deploy` from the terminal in the working directory to deploy to Hugging Face Spaces (https://huggingface.co/spaces)\n"
     ]
    },
    {
     "data": {
      "text/html": [
       "<div><iframe src=\"https://fda9598d09235f32b1.gradio.live\" width=\"100%\" height=\"500\" allow=\"autoplay; camera; microphone; clipboard-read; clipboard-write;\" frameborder=\"0\" allowfullscreen></iframe></div>"
      ],
      "text/plain": [
       "<IPython.core.display.HTML object>"
      ]
     },
     "metadata": {},
     "output_type": "display_data"
    },
    {
     "data": {
      "text/plain": []
     },
     "execution_count": 6,
     "metadata": {},
     "output_type": "execute_result"
    },
    {
     "name": "stdout",
     "output_type": "stream",
     "text": [
      "History is:\n",
      "[]\n",
      "And messages is:\n",
      "[{'role': 'system', 'content': '\\nProvide a sports betting analysis for the upcoming game between [Team A] and [Team B]. Include the following:\\n    1.  Key Player Insights for both teams:\\n        •   Mention any players listed as probable, questionable, or out.\\n        •   Highlight recent performance trends (e.g., points, rebounds, assists) and averages in relevant scenarios (e.g., when certain teammates are out).\\n        •   Identify how each player’s scoring or playstyle aligns with the opponent’s defensive strengths and weaknesses.\\n    2.  Team Trends:\\n        •   Describe defensive and offensive trends for each team over the last 5-7 games.\\n        •   Include stats like points allowed, rebounds allowed, three-point percentage allowed, or specific vulnerabilities (e.g., pick-and-roll defense, spot-ups, etc.).\\n    3.  Actionable Betting Insights:\\n        •   Suggest specific prop bets to consider, such as player points, rebounds, assists, or threes.\\n        •   Justify each recommendation based on the analysis of player trends, team matchups, and defensive tendencies.\\n\\nPresent the information in a concise, easy-to-read format, focusing on actionable takeaways for bettors\\n'}, {'role': 'user', 'content': 'Pacers @ Heat\\n\\nBack to back for Heat. Duncan Robinson and Jimmy Butler are questionable. Jimmy got benched in the 4Q last night (just trade him already). Herro had 32 last night vs NOP. IND is 23rd in defensive rating and 6th in pace. He scores 27% of his points off pick and rolls, where IND ranks 16th and then 18% off spot up where IND ranks 22nd. Bam scored 23 last night vs the Pelicans and has scored 54 points in 2 games vs IND this year. IND ranks 23rd in PITP and is 23rd in points from the roll man in the pick game and 26th in free throws allowed, which combined is 32% of Bams points. Duncan Robinson scored 17 last night. He has 13+ un 5 of his last 7. IND is 22nd in spot up where Duncan scores 24% of his points.\\n\\nSiakam has 20+ points in 4 of his last 7 games. He scored 14 and 23 in 2 games vs MIA this season. Haliburton is under 18 points in 5 of his last 7. He had 18 and 16 in both matchups vs MIA earlier this season. Myles Turner scored 9 points in the first game vs MIA and then scored 34 two days later. He has 15+ points in 4 of his last 7 games. Mathurin has 14+ in 5 of his last 7 games but Miami ranks top 5 in both his top 2 scoring types (transition and free throws).\\n\\nBased on the last 7 games. Pacers allowing the 5th most points to SGs (Robinson). Heat allowing the 6th most threes to SFs (Mathurin). Pacers allowing the 4th most points to PFs (Highsmith). Heat allowing most rebounds to centers (Turner).'}]\n",
      "History is:\n",
      "[]\n",
      "And messages is:\n",
      "[{'role': 'system', 'content': '\\nProvide a sports betting analysis for the upcoming game between [Team A] and [Team B]. Include the following:\\n    1.  Key Player Insights for both teams:\\n        •   Mention any players listed as probable, questionable, or out.\\n        •   Highlight recent performance trends (e.g., points, rebounds, assists) and averages in relevant scenarios (e.g., when certain teammates are out).\\n        •   Identify how each player’s scoring or playstyle aligns with the opponent’s defensive strengths and weaknesses.\\n    2.  Team Trends:\\n        •   Describe defensive and offensive trends for each team over the last 5-7 games.\\n        •   Include stats like points allowed, rebounds allowed, three-point percentage allowed, or specific vulnerabilities (e.g., pick-and-roll defense, spot-ups, etc.).\\n    3.  Actionable Betting Insights:\\n        •   Suggest specific prop bets to consider, such as player points, rebounds, assists, or threes.\\n        •   Justify each recommendation based on the analysis of player trends, team matchups, and defensive tendencies.\\n\\nPresent the information in a concise, easy-to-read format, focusing on actionable takeaways for bettors\\n'}, {'role': 'user', 'content': 'Hi'}]\n"
     ]
    }
   ],
   "source": [
    "gr.ChatInterface(fn=chat, type=\"messages\").launch(share=True)"
   ]
  },
  {
   "cell_type": "code",
   "execution_count": 20,
   "metadata": {},
   "outputs": [
    {
     "name": "stdout",
     "output_type": "stream",
     "text": [
      "* Running on local URL:  http://127.0.0.1:7884\n",
      "* Running on public URL: https://4378e33c47c8f4cfd4.gradio.live\n",
      "\n",
      "This share link expires in 72 hours. For free permanent hosting and GPU upgrades, run `gradio deploy` from the terminal in the working directory to deploy to Hugging Face Spaces (https://huggingface.co/spaces)\n"
     ]
    },
    {
     "data": {
      "text/html": [
       "<div><iframe src=\"https://4378e33c47c8f4cfd4.gradio.live\" width=\"100%\" height=\"500\" allow=\"autoplay; camera; microphone; clipboard-read; clipboard-write;\" frameborder=\"0\" allowfullscreen></iframe></div>"
      ],
      "text/plain": [
       "<IPython.core.display.HTML object>"
      ]
     },
     "metadata": {},
     "output_type": "display_data"
    },
    {
     "data": {
      "text/plain": []
     },
     "execution_count": 20,
     "metadata": {},
     "output_type": "execute_result"
    },
    {
     "name": "stdout",
     "output_type": "stream",
     "text": [
      "History is:\n",
      "[]\n",
      "And messages is:\n",
      "[{'role': 'system', 'content': '\\nProvide a sports betting analysis for the upcoming game between [Team A] and [Team B]. Include the following:\\n    1.  Key Player Insights for both teams:\\n        •   Mention any players listed as probable, questionable, or out.\\n        •   Highlight recent performance trends (e.g., points, rebounds, assists) and averages in relevant scenarios (e.g., when certain teammates are out).\\n        •   Identify how each player’s scoring or playstyle aligns with the opponent’s defensive strengths and weaknesses.\\n    2.  Team Trends:\\n        •   Describe defensive and offensive trends for each team over the last 5-7 games.\\n        •   Include stats like points allowed, rebounds allowed, three-point percentage allowed, or specific vulnerabilities (e.g., pick-and-roll defense, spot-ups, etc.).\\n    3.  Actionable Betting Insights:\\n        •   Suggest specific prop bets to consider, such as player points, rebounds, assists, or threes.\\n        •   Justify each recommendation based on the analysis of player trends, team matchups, and defensive tendencies.\\n\\nPresent the information in a concise, easy-to-read format, focusing on actionable takeaways for bettors\\n'}, {'role': 'user', 'content': 'Nets @ Bucks\\n\\nCam Thomas should play tomorrow as he rested yesterday due to injury management. He scored 25 points in 25 minutes in his first game back. He had 32 vs MIL earlier this season. He got up 18 shots in those 25 minutes but with D’Angelo Russell also in the picture, I wouldn’t be so sure he’s going to chuck as much as he did. Cam Johnson dropped down to 16.5 points. He averages 16.9 in games with Cam Thomas but this factors in him and Russell. MIL ranks 16th in spot up points allowed (21% of Cams points) and 25th in transition (20% of his points). Russell scored 22 in his Nets “debut”. He came off the bench but as of right now, he has a 14.5 point line. My best advice is to let him, Cam Thomas, and Cam Johnson marinate for a few games before trying to guess which guy is chucking tonight.\\n\\nGiannis has 30+ points in 6 of his last 7 games. He scores 39% of his points in transition and from free throws, where BKN ranks 22nd and 25th in. Dame has 22+ points in 5 of his last 7 but scores 38% of his points as the ball handler in a pick and roll, where BKN allows the fewest points allowed in the league to that play type. If Giannis and Dame both play, Middleton is under 15 points in 4 of 5 games with both of them playing. He scores 28% of his points from the pick game so he could struggle to generate points. Portis has 12+ points in 3 of his last 7 games but BKN ranks 30th in post up (21% of his points) and 28th in spot up (17% of his points).\\n\\nBased on the last 7 games. Nets allowing the 3rd most points to SFs (Middleton). Bucks allowing 2nd fewest points and 7th fewest threes to PGs (Russell). Nets allowing the fewest points and 3rd fewest threes to PGs (Lillard). Nets allowing the 6th most rebounds to PFs (Giannis).'}]\n",
      "History is:\n",
      "[]\n",
      "And messages is:\n",
      "[{'role': 'system', 'content': '\\nProvide a sports betting analysis for the upcoming game between [Team A] and [Team B]. Include the following:\\n    1.  Key Player Insights for both teams:\\n        •   Mention any players listed as probable, questionable, or out.\\n        •   Highlight recent performance trends (e.g., points, rebounds, assists) and averages in relevant scenarios (e.g., when certain teammates are out).\\n        •   Identify how each player’s scoring or playstyle aligns with the opponent’s defensive strengths and weaknesses.\\n    2.  Team Trends:\\n        •   Describe defensive and offensive trends for each team over the last 5-7 games.\\n        •   Include stats like points allowed, rebounds allowed, three-point percentage allowed, or specific vulnerabilities (e.g., pick-and-roll defense, spot-ups, etc.).\\n    3.  Actionable Betting Insights:\\n        •   Suggest specific prop bets to consider, such as player points, rebounds, assists, or threes.\\n        •   Justify each recommendation based on the analysis of player trends, team matchups, and defensive tendencies.\\n\\nPresent the information in a concise, easy-to-read format, focusing on actionable takeaways for bettors\\n'}, {'role': 'user', 'content': 'Clippers @ Thunder\\n\\nSGA has 32+ points in 5 of his last 7 games. He scored 25 and 45 against them this season. He had 9 assists in both games. Jalen Williams is under 21 points in 6 of his last 7 games. LAC rank 11th in points from the ball handler of a pick and roll (25% of his points) and 8th in transition (25% of his points). Hartenstein has 12+ points in 13 of 18 games this season and in 6 of his last 7. He has 12+ rebounds in 4 of his last 7 but 12 of 18 games overall.\\n\\nPowell has 24+ points in 6 of his last 7 games. He had 15 last game due to a shocking blowout defeat to the Spurs. OKC ranks 2nd in transition points allowed (23% of his points) and 24th in spot ups (21% of his points). Harden has under 23 points in 4 of his last 7 games. He scores 32% of his points from isolation, which OKC ranks 2nd against, and then scores 24% from free throws, where OKC allows 24th most points to. Zubac has 15+ points in 5 of his last 7 games. OKC ranks 25th in post up points allowed (27% of Zubacs points) and 25th in putback points (18% of his points). He has 13+ rebounds in 4 of his last 7 games and OKC is 29th in rebounds allowed per game.\\n\\nBased on the last 7 games. Thunder allowing the 6th most threes to PGs (Harden). Clippers allowing the 5th fewest points to PGs (SGA).'}]\n"
     ]
    }
   ],
   "source": [
    "gr.ChatInterface(fn=chat_claude, type=\"messages\").launch(share=True)"
   ]
  }
 ],
 "metadata": {
  "kernelspec": {
   "display_name": "llms",
   "language": "python",
   "name": "python3"
  },
  "language_info": {
   "codemirror_mode": {
    "name": "ipython",
    "version": 3
   },
   "file_extension": ".py",
   "mimetype": "text/x-python",
   "name": "python",
   "nbconvert_exporter": "python",
   "pygments_lexer": "ipython3",
   "version": "3.11.11"
  }
 },
 "nbformat": 4,
 "nbformat_minor": 2
}
